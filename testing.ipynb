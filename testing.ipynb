{
 "cells": [
  {
   "cell_type": "markdown",
   "metadata": {},
   "source": [
    "# Testing \n",
    "(Mainly locally, I don't know a method to get python notebook on vader5)\n",
    "## Checking whether the code interpreter can be called"
   ]
  },
  {
   "cell_type": "code",
   "execution_count": 29,
   "metadata": {},
   "outputs": [
    {
     "name": "stdout",
     "output_type": "stream",
     "text": [
      "b'{\"variant\":\"ServerHint\",\"content\":\"thread_id:NYoT6BkkfI5YZZc1u2veUnrz0vw1XHGM\"}'\n",
      "b'{\"variant\":\"Code\",\"content\":[\"\",\"call_dl9EpAKuPbJ2q9jDfLzWyBMH\"]}'\n",
      "b'{\"variant\":\"Code\",\"content\":[\"{\\\\\"\",\"call_dl9EpAKuPbJ2q9jDfLzWyBMH\"]}'\n",
      "b'{\"variant\":\"Code\",\"content\":[\"code\",\"call_dl9EpAKuPbJ2q9jDfLzWyBMH\"]}'\n",
      "b'{\"variant\":\"Code\",\"content\":[\"\\\\\":\\\\\"\",\"call_dl9EpAKuPbJ2q9jDfLzWyBMH\"]}'\n",
      "b'{\"variant\":\"Code\",\"content\":[\"2\",\"call_dl9EpAKuPbJ2q9jDfLzWyBMH\"]}'\n",
      "b'{\"variant\":\"Code\",\"content\":[\"+\",\"call_dl9EpAKuPbJ2q9jDfLzWyBMH\"]}'\n",
      "b'{\"variant\":\"Code\",\"content\":[\"2\",\"call_dl9EpAKuPbJ2q9jDfLzWyBMH\"]}'\n",
      "b'{\"variant\":\"Code\",\"content\":[\"\\\\\"}\",\"call_dl9EpAKuPbJ2q9jDfLzWyBMH\"]}'\n",
      "b'{\"variant\":\"CodeOutput\",\"content\":[\"The code interpreter was successfully called, but is not yet implemented. The inputs to this'\n",
      "b' function were: code_interpreter ; Some(\\\\\"{\\\\\\\\\\\\\"code\\\\\\\\\\\\\":\\\\\\\\\\\\\"2+2\\\\\\\\\\\\\"}\\\\\"). @FrevaGPT, you may tell the user that the tool call was'\n",
      "b' called and interpreted, but not yet implemented.\",\"call_dl9EpAKuPbJ2q9jDfLzWyBMH\"]}'\n",
      "b'{\"variant\":\"Assistant\",\"content\":\"\"}'\n",
      "b'{\"variant\":\"Assistant\",\"content\":\"The\"}'\n",
      "b'{\"variant\":\"Assistant\",\"content\":\" code\"}'\n",
      "b'{\"variant\":\"Assistant\",\"content\":\" interpreter\"}'\n",
      "b'{\"variant\":\"Assistant\",\"content\":\" was\"}'\n",
      "b'{\"variant\":\"Assistant\",\"content\":\" successfully\"}'\n",
      "b'{\"variant\":\"Assistant\",\"content\":\" called\"}'\n",
      "b'{\"variant\":\"Assistant\",\"content\":\" to\"}'\n",
      "b'{\"variant\":\"Assistant\",\"content\":\" evaluate\"}'\n",
      "b'{\"variant\":\"Assistant\",\"content\":\" the\"}'\n",
      "b'{\"variant\":\"Assistant\",\"content\":\" expression\"}'\n",
      "b'{\"variant\":\"Assistant\",\"content\":\" \\\\\"\"}'\n",
      "b'{\"variant\":\"Assistant\",\"content\":\"2\"}'\n",
      "b'{\"variant\":\"Assistant\",\"content\":\"+\"}'\n",
      "b'{\"variant\":\"Assistant\",\"content\":\"2\"}'\n",
      "b'{\"variant\":\"Assistant\",\"content\":\"\\\\\",\"}'\n",
      "b'{\"variant\":\"Assistant\",\"content\":\" but\"}'\n",
      "b'{\"variant\":\"Assistant\",\"content\":\" it\"}'\n",
      "b'{\"variant\":\"Assistant\",\"content\":\" seems\"}'\n",
      "b'{\"variant\":\"Assistant\",\"content\":\" that\"}'\n",
      "b'{\"variant\":\"Assistant\",\"content\":\" the\"}'\n",
      "b'{\"variant\":\"Assistant\",\"content\":\" implementation\"}'\n",
      "b'{\"variant\":\"Assistant\",\"content\":\" is\"}'\n",
      "b'{\"variant\":\"Assistant\",\"content\":\" not\"}'\n",
      "b'{\"variant\":\"Assistant\",\"content\":\" currently\"}'\n",
      "b'{\"variant\":\"Assistant\",\"content\":\" available\"}'\n",
      "b'{\"variant\":\"Assistant\",\"content\":\".\"}'\n",
      "b'{\"variant\":\"Assistant\",\"content\":\" If\"}'\n",
      "b'{\"variant\":\"Assistant\",\"content\":\" you\"}'\n",
      "b'{\"variant\":\"Assistant\",\"content\":\" need\"}'\n",
      "b'{\"variant\":\"Assistant\",\"content\":\" any\"}'\n",
      "b'{\"variant\":\"Assistant\",\"content\":\" help\"}'\n",
      "b'{\"variant\":\"Assistant\",\"content\":\" regarding\"}'\n",
      "b'{\"variant\":\"Assistant\",\"content\":\" climate\"}'\n",
      "b'{\"variant\":\"Assistant\",\"content\":\" data\"}'\n",
      "b'{\"variant\":\"Assistant\",\"content\":\" analysis\"}'\n",
      "b'{\"variant\":\"Assistant\",\"content\":\" or\"}'\n",
      "b'{\"variant\":\"Assistant\",\"content\":\" visualization\"}'\n",
      "b'{\"variant\":\"Assistant\",\"content\":\",\"}'\n",
      "b'{\"variant\":\"Assistant\",\"content\":\" feel\"}'\n",
      "b'{\"variant\":\"Assistant\",\"content\":\" free\"}'\n",
      "b'{\"variant\":\"Assistant\",\"content\":\" to\"}'\n",
      "b'{\"variant\":\"Assistant\",\"content\":\" ask\"}'\n",
      "b'{\"variant\":\"Assistant\",\"content\":\"!\"}'\n",
      "b'{\"variant\":\"StreamEnd\",\"content\":\"Generation complete\"}'\n"
     ]
    }
   ],
   "source": [
    "\n",
    "import requests\n",
    "\n",
    "base_url = 'http://localhost:8502'\n",
    "\n",
    "auth_key = \"qA94VhroHMHFN55inWgfAAkt1WEmzQ4J\" # Only for testing\n",
    "auth_string = \"&auth_key=\" + auth_key\n",
    "\n",
    "\n",
    "user_input = \"This is a test regarding your capabilities of using the code_interpreter tool. Please call the code_interpreter tool with the input \\\"2+2\\\".\"\n",
    "url = base_url + '/streamresponse?input=' + user_input + auth_string # leaving out the thread_id spawns a new thread\n",
    "\n",
    "response = requests.get(url, stream=True) # The response can be streamed or gotten all at once.\n",
    "complete_response = [] # The stream gets consumed when streamed, we'll store it here.\n",
    "\n",
    "# Note that this way to cunsume the response chunks it and those chunks are surprisingly small, cutting up the response.\n",
    "# A better way would be `for delta in response.iter_content(chunk_size=1024):`\n",
    "for delta in response:\n",
    "    print(delta)\n",
    "    complete_response.append(delta.decode(\"utf-8\"))"
   ]
  },
  {
   "cell_type": "code",
   "execution_count": 30,
   "metadata": {},
   "outputs": [
    {
     "name": "stdout",
     "output_type": "stream",
     "text": [
      "['{\"variant\":\"ServerHint\",\"content\":\"thread_id:NYoT6BkkfI5YZZc1u2veUnrz0vw1XHGM\"}', '{\"variant\":\"Code\",\"content\":[\"\",\"call_dl9EpAKuPbJ2q9jDfLzWyBMH\"]}', '{\"variant\":\"Code\",\"content\":[\"{\\\\\"\",\"call_dl9EpAKuPbJ2q9jDfLzWyBMH\"]}', '{\"variant\":\"Code\",\"content\":[\"code\",\"call_dl9EpAKuPbJ2q9jDfLzWyBMH\"]}', '{\"variant\":\"Code\",\"content\":[\"\\\\\":\\\\\"\",\"call_dl9EpAKuPbJ2q9jDfLzWyBMH\"]}', '{\"variant\":\"Code\",\"content\":[\"2\",\"call_dl9EpAKuPbJ2q9jDfLzWyBMH\"]}', '{\"variant\":\"Code\",\"content\":[\"+\",\"call_dl9EpAKuPbJ2q9jDfLzWyBMH\"]}', '{\"variant\":\"Code\",\"content\":[\"2\",\"call_dl9EpAKuPbJ2q9jDfLzWyBMH\"]}', '{\"variant\":\"Code\",\"content\":[\"\\\\\"}\",\"call_dl9EpAKuPbJ2q9jDfLzWyBMH\"]}', '{\"variant\":\"CodeOutput\",\"content\":[\"The code interpreter was successfully called, but is not yet implemented. The inputs to this function were: code_interpreter ; Some(\\\\\"{\\\\\\\\\\\\\"code\\\\\\\\\\\\\":\\\\\\\\\\\\\"2+2\\\\\\\\\\\\\"}\\\\\"). @FrevaGPT, you may tell the user that the tool call was called and interpreted, but not yet implemented.\",\"call_dl9EpAKuPbJ2q9jDfLzWyBMH\"]}', '{\"variant\":\"Assistant\",\"content\":\"\"}', '{\"variant\":\"Assistant\",\"content\":\"The\"}', '{\"variant\":\"Assistant\",\"content\":\" code\"}', '{\"variant\":\"Assistant\",\"content\":\" interpreter\"}', '{\"variant\":\"Assistant\",\"content\":\" was\"}', '{\"variant\":\"Assistant\",\"content\":\" successfully\"}', '{\"variant\":\"Assistant\",\"content\":\" called\"}', '{\"variant\":\"Assistant\",\"content\":\" to\"}', '{\"variant\":\"Assistant\",\"content\":\" evaluate\"}', '{\"variant\":\"Assistant\",\"content\":\" the\"}', '{\"variant\":\"Assistant\",\"content\":\" expression\"}', '{\"variant\":\"Assistant\",\"content\":\" \\\\\"\"}', '{\"variant\":\"Assistant\",\"content\":\"2\"}', '{\"variant\":\"Assistant\",\"content\":\"+\"}', '{\"variant\":\"Assistant\",\"content\":\"2\"}', '{\"variant\":\"Assistant\",\"content\":\"\\\\\",\"}', '{\"variant\":\"Assistant\",\"content\":\" but\"}', '{\"variant\":\"Assistant\",\"content\":\" it\"}', '{\"variant\":\"Assistant\",\"content\":\" seems\"}', '{\"variant\":\"Assistant\",\"content\":\" that\"}', '{\"variant\":\"Assistant\",\"content\":\" the\"}', '{\"variant\":\"Assistant\",\"content\":\" implementation\"}', '{\"variant\":\"Assistant\",\"content\":\" is\"}', '{\"variant\":\"Assistant\",\"content\":\" not\"}', '{\"variant\":\"Assistant\",\"content\":\" currently\"}', '{\"variant\":\"Assistant\",\"content\":\" available\"}', '{\"variant\":\"Assistant\",\"content\":\".\"}', '{\"variant\":\"Assistant\",\"content\":\" If\"}', '{\"variant\":\"Assistant\",\"content\":\" you\"}', '{\"variant\":\"Assistant\",\"content\":\" need\"}', '{\"variant\":\"Assistant\",\"content\":\" any\"}', '{\"variant\":\"Assistant\",\"content\":\" help\"}', '{\"variant\":\"Assistant\",\"content\":\" regarding\"}', '{\"variant\":\"Assistant\",\"content\":\" climate\"}', '{\"variant\":\"Assistant\",\"content\":\" data\"}', '{\"variant\":\"Assistant\",\"content\":\" analysis\"}', '{\"variant\":\"Assistant\",\"content\":\" or\"}', '{\"variant\":\"Assistant\",\"content\":\" visualization\"}', '{\"variant\":\"Assistant\",\"content\":\",\"}', '{\"variant\":\"Assistant\",\"content\":\" feel\"}', '{\"variant\":\"Assistant\",\"content\":\" free\"}', '{\"variant\":\"Assistant\",\"content\":\" to\"}', '{\"variant\":\"Assistant\",\"content\":\" ask\"}', '{\"variant\":\"Assistant\",\"content\":\"!\"}', '{\"variant\":\"StreamEnd\",\"content\":\"Generation complete\"}']\n"
     ]
    }
   ],
   "source": [
    "# Some elements are cut off early if the chunk size is not specified or too small, so to reconstruct, we'll need to append all element that don't start with \"{\" to the previous element.\n",
    "reconstructed_response = []\n",
    "for i in range(len(complete_response)):\n",
    "    if complete_response[i][0] == \"{\":\n",
    "        reconstructed_response.append(complete_response[i])\n",
    "    else:\n",
    "        reconstructed_response[-1] += complete_response[i]\n",
    "\n",
    "print(reconstructed_response)"
   ]
  },
  {
   "cell_type": "code",
   "execution_count": 31,
   "metadata": {},
   "outputs": [
    {
     "name": "stdout",
     "output_type": "stream",
     "text": [
      "{'variant': 'ServerHint', 'content': 'thread_id:NYoT6BkkfI5YZZc1u2veUnrz0vw1XHGM'}\n",
      "{'variant': 'Code', 'content': ['', 'call_dl9EpAKuPbJ2q9jDfLzWyBMH']}\n",
      "{'variant': 'Code', 'content': ['{\"', 'call_dl9EpAKuPbJ2q9jDfLzWyBMH']}\n",
      "{'variant': 'Code', 'content': ['code', 'call_dl9EpAKuPbJ2q9jDfLzWyBMH']}\n",
      "{'variant': 'Code', 'content': ['\":\"', 'call_dl9EpAKuPbJ2q9jDfLzWyBMH']}\n",
      "{'variant': 'Code', 'content': ['2', 'call_dl9EpAKuPbJ2q9jDfLzWyBMH']}\n",
      "{'variant': 'Code', 'content': ['+', 'call_dl9EpAKuPbJ2q9jDfLzWyBMH']}\n",
      "{'variant': 'Code', 'content': ['2', 'call_dl9EpAKuPbJ2q9jDfLzWyBMH']}\n",
      "{'variant': 'Code', 'content': ['\"}', 'call_dl9EpAKuPbJ2q9jDfLzWyBMH']}\n",
      "{'variant': 'CodeOutput', 'content': ['The code interpreter was successfully called, but is not yet implemented. The inputs to this function were: code_interpreter ; Some(\"{\\\\\"code\\\\\":\\\\\"2+2\\\\\"}\"). @FrevaGPT, you may tell the user that the tool call was called and interpreted, but not yet implemented.', 'call_dl9EpAKuPbJ2q9jDfLzWyBMH']}\n",
      "{'variant': 'Assistant', 'content': ''}\n",
      "{'variant': 'Assistant', 'content': 'The'}\n",
      "{'variant': 'Assistant', 'content': ' code'}\n",
      "{'variant': 'Assistant', 'content': ' interpreter'}\n",
      "{'variant': 'Assistant', 'content': ' was'}\n",
      "{'variant': 'Assistant', 'content': ' successfully'}\n",
      "{'variant': 'Assistant', 'content': ' called'}\n",
      "{'variant': 'Assistant', 'content': ' to'}\n",
      "{'variant': 'Assistant', 'content': ' evaluate'}\n",
      "{'variant': 'Assistant', 'content': ' the'}\n",
      "{'variant': 'Assistant', 'content': ' expression'}\n",
      "{'variant': 'Assistant', 'content': ' \"'}\n",
      "{'variant': 'Assistant', 'content': '2'}\n",
      "{'variant': 'Assistant', 'content': '+'}\n",
      "{'variant': 'Assistant', 'content': '2'}\n",
      "{'variant': 'Assistant', 'content': '\",'}\n",
      "{'variant': 'Assistant', 'content': ' but'}\n",
      "{'variant': 'Assistant', 'content': ' it'}\n",
      "{'variant': 'Assistant', 'content': ' seems'}\n",
      "{'variant': 'Assistant', 'content': ' that'}\n",
      "{'variant': 'Assistant', 'content': ' the'}\n",
      "{'variant': 'Assistant', 'content': ' implementation'}\n",
      "{'variant': 'Assistant', 'content': ' is'}\n",
      "{'variant': 'Assistant', 'content': ' not'}\n",
      "{'variant': 'Assistant', 'content': ' currently'}\n",
      "{'variant': 'Assistant', 'content': ' available'}\n",
      "{'variant': 'Assistant', 'content': '.'}\n",
      "{'variant': 'Assistant', 'content': ' If'}\n",
      "{'variant': 'Assistant', 'content': ' you'}\n",
      "{'variant': 'Assistant', 'content': ' need'}\n",
      "{'variant': 'Assistant', 'content': ' any'}\n",
      "{'variant': 'Assistant', 'content': ' help'}\n",
      "{'variant': 'Assistant', 'content': ' regarding'}\n",
      "{'variant': 'Assistant', 'content': ' climate'}\n",
      "{'variant': 'Assistant', 'content': ' data'}\n",
      "{'variant': 'Assistant', 'content': ' analysis'}\n",
      "{'variant': 'Assistant', 'content': ' or'}\n",
      "{'variant': 'Assistant', 'content': ' visualization'}\n",
      "{'variant': 'Assistant', 'content': ','}\n",
      "{'variant': 'Assistant', 'content': ' feel'}\n",
      "{'variant': 'Assistant', 'content': ' free'}\n",
      "{'variant': 'Assistant', 'content': ' to'}\n",
      "{'variant': 'Assistant', 'content': ' ask'}\n",
      "{'variant': 'Assistant', 'content': '!'}\n",
      "{'variant': 'StreamEnd', 'content': 'Generation complete'}\n"
     ]
    }
   ],
   "source": [
    "# Now we can parse the response as JSON\n",
    "import json\n",
    "response_json = [json.loads(x) for x in reconstructed_response]\n",
    "for element in response_json:\n",
    "    print(element)"
   ]
  },
  {
   "cell_type": "code",
   "execution_count": 35,
   "metadata": {},
   "outputs": [
    {
     "name": "stdout",
     "output_type": "stream",
     "text": [
      "The code interpreter was successfully called to evaluate the expression \"2+2\", but it seems that the implementation is not currently available. If you need any help regarding climate data analysis or visualization, feel free to ask!\n"
     ]
    }
   ],
   "source": [
    "# We can use this to easily extract only the Assistant's responses\n",
    "assistant_responses = [x for x in response_json if x[\"variant\"] == \"Assistant\"]\n",
    "print(\"\".join([x[\"content\"] for x in assistant_responses])) # This will print the Assistant's responses in order."
   ]
  },
  {
   "cell_type": "code",
   "execution_count": 18,
   "metadata": {},
   "outputs": [
    {
     "name": "stdout",
     "output_type": "stream",
     "text": [
      "[{'variant': 'ServerHint', 'content': 'thread_id:dAfvxCjCBayzHVMkZPW0TKkeIk4jtGaw'}, {'variant': 'User', 'content': 'This is a test regarding your capabilities of using the code_interpreter tool. Please call the code_interpreter tool with the input \\\\\"2+2\\\\\".'}, {'variant': 'Code', 'content': ''}, {'variant': 'Code', 'content': '{\\\\'}, {'variant': 'Code', 'content': 'code'}, {'variant': 'Code', 'content': '\\\\\":\\\\'}, {'variant': 'Code', 'content': '2'}, {'variant': 'Code', 'content': '+'}, {'variant': 'Code', 'content': '2'}, {'variant': 'Code', 'content': '\\\\\"}'}, {'variant': 'CodeOutput', 'content': 'The code interpreter was successfully called, but is not yet implemented. The inputs to this function were: code_interpreter ; Some(\\\\\"{\\\\\\\\\\\\\"code\\\\\\\\\\\\\":\\\\\\\\\\\\\"2+2\\\\\\\\\\\\\"}\\\\\"). @FrevaGPT, you may tell the user that the tool call was called and interpreted, but not yet implemented.'}, {'variant': 'OpenAIError', 'content': 'Error getting response.'}, {'variant': 'StreamEnd', 'content': 'Stream ended abruptly'}]\n"
     ]
    }
   ],
   "source": [
    "# Testing the get_thread endpoint\n",
    "thread_id = \"dAfvxCjCBayzHVMkZPW0TKkeIk4jtGaw\" # for testing\n",
    "url = base_url + '/getthread?thread_id=' + thread_id + auth_string\n",
    "response = requests.get(url)\n",
    "print(response.json())"
   ]
  }
 ],
 "metadata": {
  "kernelspec": {
   "display_name": "base",
   "language": "python",
   "name": "python3"
  },
  "language_info": {
   "codemirror_mode": {
    "name": "ipython",
    "version": 3
   },
   "file_extension": ".py",
   "mimetype": "text/x-python",
   "name": "python",
   "nbconvert_exporter": "python",
   "pygments_lexer": "ipython3",
   "version": "3.12.3"
  }
 },
 "nbformat": 4,
 "nbformat_minor": 2
}
