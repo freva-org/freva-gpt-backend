{
 "cells": [
  {
   "cell_type": "markdown",
   "metadata": {},
   "source": [
    "# Testing \n",
    "(Mainly locally, I don't know a method to get python notebook on vader5)\n",
    "## Checking whether the code interpreter can be called"
   ]
  },
  {
   "cell_type": "code",
   "execution_count": 40,
   "metadata": {},
   "outputs": [
    {
     "name": "stdout",
     "output_type": "stream",
     "text": [
      "b'{\"variant\":\"ServerHint\",\"content\":\"thread_id:zMgRy7runA9zo55sXSLLSYOVIdNR3Dck\"}'\n",
      "b'{\"variant\":\"Code\",\"content\":[\"\",\"call_C7KbEcL27YHaswCNyc0vXfli\"]}'\n",
      "b'{\"variant\":\"Code\",\"content\":[\"{\\\\\"\",\"call_C7KbEcL27YHaswCNyc0vXfli\"]}'\n",
      "b'{\"variant\":\"Code\",\"content\":[\"code\",\"call_C7KbEcL27YHaswCNyc0vXfli\"]}'\n",
      "b'{\"variant\":\"Code\",\"content\":[\"\\\\\":\\\\\"\",\"call_C7KbEcL27YHaswCNyc0vXfli\"]}'\n",
      "b'{\"variant\":\"Code\",\"content\":[\"test\",\"call_C7KbEcL27YHaswCNyc0vXfli\"]}'\n",
      "b'{\"variant\":\"Code\",\"content\":[\" =\",\"call_C7KbEcL27YHaswCNyc0vXfli\"]}'\n",
      "b'{\"variant\":\"Code\",\"content\":[\" \",\"call_C7KbEcL27YHaswCNyc0vXfli\"]}'\n",
      "b'{\"variant\":\"Code\",\"content\":[\"2\",\"call_C7KbEcL27YHaswCNyc0vXfli\"]}'\n",
      "b'{\"variant\":\"Code\",\"content\":[\"+\",\"call_C7KbEcL27YHaswCNyc0vXfli\"]}'\n",
      "b'{\"variant\":\"Code\",\"content\":[\"2\",\"call_C7KbEcL27YHaswCNyc0vXfli\"]}'\n",
      "b'{\"variant\":\"Code\",\"content\":[\"\\\\\\\\\",\"call_C7KbEcL27YHaswCNyc0vXfli\"]}'\n",
      "b'{\"variant\":\"Code\",\"content\":[\"nt\",\"call_C7KbEcL27YHaswCNyc0vXfli\"]}'\n",
      "b'{\"variant\":\"Code\",\"content\":[\"est\",\"call_C7KbEcL27YHaswCNyc0vXfli\"]}'\n",
      "b'{\"variant\":\"Code\",\"content\":[\"\\\\\"}\",\"call_C7KbEcL27YHaswCNyc0vXfli\"]}'\n",
      "b'{\"variant\":\"CodeOutput\",\"content\":[\"4\",\"call_C7KbEcL27YHaswCNyc0vXfli\"]}'\n",
      "b'{\"variant\":\"Assistant\",\"content\":\"\"}'\n",
      "b'{\"variant\":\"Assistant\",\"content\":\"The\"}'\n",
      "b'{\"variant\":\"Assistant\",\"content\":\" result\"}'\n",
      "b'{\"variant\":\"Assistant\",\"content\":\" of\"}'\n",
      "b'{\"variant\":\"Assistant\",\"content\":\" the\"}'\n",
      "b'{\"variant\":\"Assistant\",\"content\":\" test\"}'\n",
      "b'{\"variant\":\"Assistant\",\"content\":\" calculation\"}'\n",
      "b'{\"variant\":\"Assistant\",\"content\":\" is\"}'\n",
      "b'{\"variant\":\"Assistant\",\"content\":\" \"}'\n",
      "b'{\"variant\":\"Assistant\",\"content\":\"4\"}'\n",
      "b'{\"variant\":\"Assistant\",\"content\":\".\"}'\n",
      "b'{\"variant\":\"Assistant\",\"content\":\" If\"}'\n",
      "b'{\"variant\":\"Assistant\",\"content\":\" you\"}'\n",
      "b'{\"variant\":\"Assistant\",\"content\":\" have\"}'\n",
      "b'{\"variant\":\"Assistant\",\"content\":\" any\"}'\n",
      "b'{\"variant\":\"Assistant\",\"content\":\" further\"}'\n",
      "b'{\"variant\":\"Assistant\",\"content\":\" questions\"}'\n",
      "b'{\"variant\":\"Assistant\",\"content\":\" or\"}'\n",
      "b'{\"variant\":\"Assistant\",\"content\":\" need\"}'\n",
      "b'{\"variant\":\"Assistant\",\"content\":\" assistance\"}'\n",
      "b'{\"variant\":\"Assistant\",\"content\":\" with\"}'\n",
      "b'{\"variant\":\"Assistant\",\"content\":\" climate\"}'\n",
      "b'{\"variant\":\"Assistant\",\"content\":\" data\"}'\n",
      "b'{\"variant\":\"Assistant\",\"content\":\" analysis\"}'\n",
      "b'{\"variant\":\"Assistant\",\"content\":\",\"}'\n",
      "b'{\"variant\":\"Assistant\",\"content\":\" feel\"}'\n",
      "b'{\"variant\":\"Assistant\",\"content\":\" free\"}'\n",
      "b'{\"variant\":\"Assistant\",\"content\":\" to\"}'\n",
      "b'{\"variant\":\"Assistant\",\"content\":\" ask\"}'\n",
      "b'{\"variant\":\"Assistant\",\"content\":\"!\"}'\n",
      "b'{\"variant\":\"StreamEnd\",\"content\":\"Generation complete\"}'\n"
     ]
    }
   ],
   "source": [
    "\n",
    "import requests\n",
    "\n",
    "base_url = 'http://localhost:8502'\n",
    "\n",
    "auth_key = \"qA94VhroHMHFN55inWgfAAkt1WEmzQ4J\" # Only for testing\n",
    "auth_string = \"&auth_key=\" + auth_key\n",
    "\n",
    "\n",
    "user_input = \"This is a test regarding your capabilities of using the code_interpreter tool. Please call the code_interpreter tool with the input \\\"test = 2+2\\ntest\\\".\"\n",
    "url = base_url + '/streamresponse?input=' + user_input + auth_string # leaving out the thread_id spawns a new thread\n",
    "\n",
    "response = requests.get(url, stream=True) # The response can be streamed or gotten all at once.\n",
    "complete_response = [] # The stream gets consumed when streamed, we'll store it here.\n",
    "\n",
    "# Note that this way to cunsume the response chunks it and those chunks are surprisingly small, cutting up the response.\n",
    "# A better way would be `for delta in response.iter_content(chunk_size=1024):`\n",
    "for delta in response:\n",
    "    print(delta)\n",
    "    complete_response.append(delta.decode(\"utf-8\"))"
   ]
  },
  {
   "cell_type": "code",
   "execution_count": 37,
   "metadata": {},
   "outputs": [
    {
     "name": "stdout",
     "output_type": "stream",
     "text": [
      "['{\"variant\":\"ServerHint\",\"content\":\"thread_id:Xdv6RsVaLZgU7i2T0bytAtV3rfsKHaax\"}', '{\"variant\":\"Code\",\"content\":[\"\",\"call_ccAGxjW9anTN3yH7E0JYASSQ\"]}', '{\"variant\":\"Code\",\"content\":[\"{\\\\\"\",\"call_ccAGxjW9anTN3yH7E0JYASSQ\"]}', '{\"variant\":\"Code\",\"content\":[\"code\",\"call_ccAGxjW9anTN3yH7E0JYASSQ\"]}', '{\"variant\":\"Code\",\"content\":[\"\\\\\":\\\\\"\",\"call_ccAGxjW9anTN3yH7E0JYASSQ\"]}', '{\"variant\":\"Code\",\"content\":[\"2\",\"call_ccAGxjW9anTN3yH7E0JYASSQ\"]}', '{\"variant\":\"Code\",\"content\":[\"+\",\"call_ccAGxjW9anTN3yH7E0JYASSQ\"]}', '{\"variant\":\"Code\",\"content\":[\"2\",\"call_ccAGxjW9anTN3yH7E0JYASSQ\"]}', '{\"variant\":\"Code\",\"content\":[\"\\\\\"}\",\"call_ccAGxjW9anTN3yH7E0JYASSQ\"]}', '{\"variant\":\"CodeOutput\",\"content\":[\"4\",\"call_ccAGxjW9anTN3yH7E0JYASSQ\"]}', '{\"variant\":\"Assistant\",\"content\":\"\"}', '{\"variant\":\"Assistant\",\"content\":\"The\"}', '{\"variant\":\"Assistant\",\"content\":\" result\"}', '{\"variant\":\"Assistant\",\"content\":\" of\"}', '{\"variant\":\"Assistant\",\"content\":\" the\"}', '{\"variant\":\"Assistant\",\"content\":\" calculation\"}', '{\"variant\":\"Assistant\",\"content\":\" \\\\\\\\(\"}', '{\"variant\":\"Assistant\",\"content\":\"2\"}', '{\"variant\":\"Assistant\",\"content\":\" +\"}', '{\"variant\":\"Assistant\",\"content\":\" \"}', '{\"variant\":\"Assistant\",\"content\":\"2\"}', '{\"variant\":\"Assistant\",\"content\":\"\\\\\\\\\"}', '{\"variant\":\"Assistant\",\"content\":\")\"}', '{\"variant\":\"Assistant\",\"content\":\" is\"}', '{\"variant\":\"Assistant\",\"content\":\" \\\\\\\\(\"}', '{\"variant\":\"Assistant\",\"content\":\"4\"}', '{\"variant\":\"Assistant\",\"content\":\"\\\\\\\\\"}', '{\"variant\":\"Assistant\",\"content\":\").\"}', '{\"variant\":\"Assistant\",\"content\":\" If\"}', '{\"variant\":\"Assistant\",\"content\":\" you\"}', '{\"variant\":\"Assistant\",\"content\":\" have\"}', '{\"variant\":\"Assistant\",\"content\":\" any\"}', '{\"variant\":\"Assistant\",\"content\":\" other\"}', '{\"variant\":\"Assistant\",\"content\":\" tests\"}', '{\"variant\":\"Assistant\",\"content\":\" or\"}', '{\"variant\":\"Assistant\",\"content\":\" questions\"}', '{\"variant\":\"Assistant\",\"content\":\" regarding\"}', '{\"variant\":\"Assistant\",\"content\":\" climate\"}', '{\"variant\":\"Assistant\",\"content\":\" data\"}', '{\"variant\":\"Assistant\",\"content\":\" analysis\"}', '{\"variant\":\"Assistant\",\"content\":\",\"}', '{\"variant\":\"Assistant\",\"content\":\" feel\"}', '{\"variant\":\"Assistant\",\"content\":\" free\"}', '{\"variant\":\"Assistant\",\"content\":\" to\"}', '{\"variant\":\"Assistant\",\"content\":\" ask\"}', '{\"variant\":\"Assistant\",\"content\":\"!\"}', '{\"variant\":\"StreamEnd\",\"content\":\"Generation complete\"}']\n"
     ]
    }
   ],
   "source": [
    "# Some elements are cut off early if the chunk size is not specified or too small, so to reconstruct, we'll need to append all element that don't start with \"{\" to the previous element.\n",
    "reconstructed_response = []\n",
    "for i in range(len(complete_response)):\n",
    "    if complete_response[i][0] == \"{\":\n",
    "        reconstructed_response.append(complete_response[i])\n",
    "    else:\n",
    "        reconstructed_response[-1] += complete_response[i]\n",
    "\n",
    "print(reconstructed_response)"
   ]
  },
  {
   "cell_type": "code",
   "execution_count": 38,
   "metadata": {},
   "outputs": [
    {
     "name": "stdout",
     "output_type": "stream",
     "text": [
      "{'variant': 'ServerHint', 'content': 'thread_id:Xdv6RsVaLZgU7i2T0bytAtV3rfsKHaax'}\n",
      "{'variant': 'Code', 'content': ['', 'call_ccAGxjW9anTN3yH7E0JYASSQ']}\n",
      "{'variant': 'Code', 'content': ['{\"', 'call_ccAGxjW9anTN3yH7E0JYASSQ']}\n",
      "{'variant': 'Code', 'content': ['code', 'call_ccAGxjW9anTN3yH7E0JYASSQ']}\n",
      "{'variant': 'Code', 'content': ['\":\"', 'call_ccAGxjW9anTN3yH7E0JYASSQ']}\n",
      "{'variant': 'Code', 'content': ['2', 'call_ccAGxjW9anTN3yH7E0JYASSQ']}\n",
      "{'variant': 'Code', 'content': ['+', 'call_ccAGxjW9anTN3yH7E0JYASSQ']}\n",
      "{'variant': 'Code', 'content': ['2', 'call_ccAGxjW9anTN3yH7E0JYASSQ']}\n",
      "{'variant': 'Code', 'content': ['\"}', 'call_ccAGxjW9anTN3yH7E0JYASSQ']}\n",
      "{'variant': 'CodeOutput', 'content': ['4', 'call_ccAGxjW9anTN3yH7E0JYASSQ']}\n",
      "{'variant': 'Assistant', 'content': ''}\n",
      "{'variant': 'Assistant', 'content': 'The'}\n",
      "{'variant': 'Assistant', 'content': ' result'}\n",
      "{'variant': 'Assistant', 'content': ' of'}\n",
      "{'variant': 'Assistant', 'content': ' the'}\n",
      "{'variant': 'Assistant', 'content': ' calculation'}\n",
      "{'variant': 'Assistant', 'content': ' \\\\('}\n",
      "{'variant': 'Assistant', 'content': '2'}\n",
      "{'variant': 'Assistant', 'content': ' +'}\n",
      "{'variant': 'Assistant', 'content': ' '}\n",
      "{'variant': 'Assistant', 'content': '2'}\n",
      "{'variant': 'Assistant', 'content': '\\\\'}\n",
      "{'variant': 'Assistant', 'content': ')'}\n",
      "{'variant': 'Assistant', 'content': ' is'}\n",
      "{'variant': 'Assistant', 'content': ' \\\\('}\n",
      "{'variant': 'Assistant', 'content': '4'}\n",
      "{'variant': 'Assistant', 'content': '\\\\'}\n",
      "{'variant': 'Assistant', 'content': ').'}\n",
      "{'variant': 'Assistant', 'content': ' If'}\n",
      "{'variant': 'Assistant', 'content': ' you'}\n",
      "{'variant': 'Assistant', 'content': ' have'}\n",
      "{'variant': 'Assistant', 'content': ' any'}\n",
      "{'variant': 'Assistant', 'content': ' other'}\n",
      "{'variant': 'Assistant', 'content': ' tests'}\n",
      "{'variant': 'Assistant', 'content': ' or'}\n",
      "{'variant': 'Assistant', 'content': ' questions'}\n",
      "{'variant': 'Assistant', 'content': ' regarding'}\n",
      "{'variant': 'Assistant', 'content': ' climate'}\n",
      "{'variant': 'Assistant', 'content': ' data'}\n",
      "{'variant': 'Assistant', 'content': ' analysis'}\n",
      "{'variant': 'Assistant', 'content': ','}\n",
      "{'variant': 'Assistant', 'content': ' feel'}\n",
      "{'variant': 'Assistant', 'content': ' free'}\n",
      "{'variant': 'Assistant', 'content': ' to'}\n",
      "{'variant': 'Assistant', 'content': ' ask'}\n",
      "{'variant': 'Assistant', 'content': '!'}\n",
      "{'variant': 'StreamEnd', 'content': 'Generation complete'}\n"
     ]
    }
   ],
   "source": [
    "# Now we can parse the response as JSON\n",
    "import json\n",
    "response_json = [json.loads(x) for x in reconstructed_response]\n",
    "for element in response_json:\n",
    "    print(element)"
   ]
  },
  {
   "cell_type": "code",
   "execution_count": 39,
   "metadata": {},
   "outputs": [
    {
     "name": "stdout",
     "output_type": "stream",
     "text": [
      "The result of the calculation \\(2 + 2\\) is \\(4\\). If you have any other tests or questions regarding climate data analysis, feel free to ask!\n"
     ]
    }
   ],
   "source": [
    "# We can use this to easily extract only the Assistant's responses\n",
    "assistant_responses = [x for x in response_json if x[\"variant\"] == \"Assistant\"]\n",
    "print(\"\".join([x[\"content\"] for x in assistant_responses])) # This will print the Assistant's responses in order."
   ]
  },
  {
   "cell_type": "code",
   "execution_count": 18,
   "metadata": {},
   "outputs": [
    {
     "name": "stdout",
     "output_type": "stream",
     "text": [
      "[{'variant': 'ServerHint', 'content': 'thread_id:dAfvxCjCBayzHVMkZPW0TKkeIk4jtGaw'}, {'variant': 'User', 'content': 'This is a test regarding your capabilities of using the code_interpreter tool. Please call the code_interpreter tool with the input \\\\\"2+2\\\\\".'}, {'variant': 'Code', 'content': ''}, {'variant': 'Code', 'content': '{\\\\'}, {'variant': 'Code', 'content': 'code'}, {'variant': 'Code', 'content': '\\\\\":\\\\'}, {'variant': 'Code', 'content': '2'}, {'variant': 'Code', 'content': '+'}, {'variant': 'Code', 'content': '2'}, {'variant': 'Code', 'content': '\\\\\"}'}, {'variant': 'CodeOutput', 'content': 'The code interpreter was successfully called, but is not yet implemented. The inputs to this function were: code_interpreter ; Some(\\\\\"{\\\\\\\\\\\\\"code\\\\\\\\\\\\\":\\\\\\\\\\\\\"2+2\\\\\\\\\\\\\"}\\\\\"). @FrevaGPT, you may tell the user that the tool call was called and interpreted, but not yet implemented.'}, {'variant': 'OpenAIError', 'content': 'Error getting response.'}, {'variant': 'StreamEnd', 'content': 'Stream ended abruptly'}]\n"
     ]
    }
   ],
   "source": [
    "# Testing the get_thread endpoint\n",
    "thread_id = \"dAfvxCjCBayzHVMkZPW0TKkeIk4jtGaw\" # for testing\n",
    "url = base_url + '/getthread?thread_id=' + thread_id + auth_string\n",
    "response = requests.get(url)\n",
    "print(response.json())"
   ]
  }
 ],
 "metadata": {
  "kernelspec": {
   "display_name": "base",
   "language": "python",
   "name": "python3"
  },
  "language_info": {
   "codemirror_mode": {
    "name": "ipython",
    "version": 3
   },
   "file_extension": ".py",
   "mimetype": "text/x-python",
   "name": "python",
   "nbconvert_exporter": "python",
   "pygments_lexer": "ipython3",
   "version": "3.12.3"
  }
 },
 "nbformat": 4,
 "nbformat_minor": 2
}
