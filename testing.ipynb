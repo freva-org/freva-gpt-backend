{
 "cells": [
  {
   "cell_type": "markdown",
   "metadata": {},
   "source": [
    "# Testing \n",
    "(Mainly locally, I don't know a method to get python notebook on vader5)\n",
    "## Checking whether the code interpreter can be called"
   ]
  },
  {
   "cell_type": "code",
   "execution_count": 23,
   "metadata": {},
   "outputs": [
    {
     "name": "stdout",
     "output_type": "stream",
     "text": [
      "b'{\"variant\":\"ServerHint\",\"content\":\"thread_id:JllYZfjPJtzyj3zMeQb7PFuJUMoHs1KE\"}'\n",
      "b'{\"variant\":\"Code\",\"content\":[\"\",\"call_cWkRfjOvqDllsyLYJBFndYGc\"]}'\n",
      "b'{\"variant\":\"Code\",\"content\":[\"{\\\\\"\",\"call_cWkRfjOvqDllsyLYJBFndYGc\"]}'\n",
      "b'{\"variant\":\"Code\",\"content\":[\"code\",\"call_cWkRfjOvqDllsyLYJBFndYGc\"]}'\n",
      "b'{\"variant\":\"Code\",\"content\":[\"\\\\\":\\\\\"\",\"call_cWkRfjOvqDllsyLYJBFndYGc\"]}'\n",
      "b'{\"variant\":\"Code\",\"content\":[\"2\",\"call_cWkRfjOvqDllsyLYJBFndYGc\"]}'\n",
      "b'{\"variant\":\"Code\",\"content\":[\"+\",\"call_cWkRfjOvqDllsyLYJBFndYGc\"]}'\n",
      "b'{\"variant\":\"Code\",\"content\":[\"2\",\"call_cWkRfjOvqDllsyLYJBFndYGc\"]}'\n",
      "b'{\"variant\":\"Code\",\"content\":[\"\\\\\"}\",\"call_cWkRfjOvqDllsyLYJBFndYGc\"]}'\n",
      "b'{\"variant\":\"CodeOutput\",\"content\":[\"The code interpreter was successfully called, but is not yet implemented. The inputs to this'\n",
      "b' function were: code_interpreter ; Some(\\\\\"{\\\\\\\\\\\\\"code\\\\\\\\\\\\\":\\\\\\\\\\\\\"2+2\\\\\\\\\\\\\"}\\\\\"). @FrevaGPT, you may tell the user that the tool call was'\n",
      "b' called and interpreted, but not yet implemented.\",\"call_cWkRfjOvqDllsyLYJBFndYGc\"]}'\n",
      "b'{\"variant\":\"OpenAIError\",\"content\":\"Error getting response.\"}'\n",
      "b'{\"variant\":\"StreamEnd\",\"content\":\"Stream ended abruptly\"}'\n"
     ]
    }
   ],
   "source": [
    "\n",
    "import requests\n",
    "\n",
    "base_url = 'http://localhost:8502'\n",
    "\n",
    "auth_key = \"qA94VhroHMHFN55inWgfAAkt1WEmzQ4J\" # Only for testing\n",
    "auth_string = \"&auth_key=\" + auth_key\n",
    "\n",
    "\n",
    "user_input = \"This is a test regarding your capabilities of using the code_interpreter tool. Please call the code_interpreter tool with the input \\\"2+2\\\".\"\n",
    "url = base_url + '/streamresponse?input=' + user_input + auth_string # leaving out the thread_id spawns a new thread\n",
    "\n",
    "response = requests.get(url, stream=True) # The response can be streamed or gotten all at once.\n",
    "complete_response = [] # The stream gets consumed when streamed, we'll store it here.\n",
    "\n",
    "# Note that this way to cunsume the response chunks it and those chunks are surprisingly small, cutting up the response.\n",
    "# A better way would be `for delta in response.iter_content(chunk_size=1024):`\n",
    "for delta in response:\n",
    "    print(delta)\n",
    "    complete_response.append(delta.decode(\"utf-8\"))"
   ]
  },
  {
   "cell_type": "code",
   "execution_count": 9,
   "metadata": {},
   "outputs": [
    {
     "name": "stdout",
     "output_type": "stream",
     "text": [
      "['{\"variant\":\"ServerHint\",\"content\":\"thread_id:aG5ovzyjZXYwlFIGZLjb28JxIGwSh6Hu\"}', '{\"variant\":\"Code\",\"content\":\"\"}', '{\"variant\":\"Code\",\"content\":\"{\\\\\"\"}', '{\"variant\":\"Code\",\"content\":\"code\"}', '{\"variant\":\"Code\",\"content\":\"\\\\\":\\\\\"\"}', '{\"variant\":\"Code\",\"content\":\"2\"}', '{\"variant\":\"Code\",\"content\":\"+\"}', '{\"variant\":\"Code\",\"content\":\"2\"}', '{\"variant\":\"Code\",\"content\":\"\\\\\"}\"}', '{\"variant\":\"CodeOutput\",\"content\":\"The code interpreter was successfully called, but is not yet implemented. The inputs to this function were: code_interpreter ; Some(\\\\\"{\\\\\\\\\\\\\"code\\\\\\\\\\\\\":\\\\\\\\\\\\\"2+2\\\\\\\\\\\\\"}\\\\\"). @FrevaGPT, you may tell the user that the tool call was called and interpreted, but not yet implemented.\"}', '{\"variant\":\"StreamEnd\",\"content\":\"Stream ended abruptly\"}']\n"
     ]
    }
   ],
   "source": [
    "# Some elements are cut off early if the chunk size is not specified or too small, so to reconstruct, we'll need to append all element that don't start with \"{\" to the previous element.\n",
    "reconstructed_response = []\n",
    "for i in range(len(complete_response)):\n",
    "    if complete_response[i][0] == \"{\":\n",
    "        reconstructed_response.append(complete_response[i])\n",
    "    else:\n",
    "        reconstructed_response[-1] += complete_response[i]\n",
    "\n",
    "print(reconstructed_response)"
   ]
  },
  {
   "cell_type": "code",
   "execution_count": 13,
   "metadata": {},
   "outputs": [
    {
     "name": "stdout",
     "output_type": "stream",
     "text": [
      "{'variant': 'ServerHint', 'content': 'thread_id:aG5ovzyjZXYwlFIGZLjb28JxIGwSh6Hu'}\n",
      "{'variant': 'Code', 'content': ''}\n",
      "{'variant': 'Code', 'content': '{\"'}\n",
      "{'variant': 'Code', 'content': 'code'}\n",
      "{'variant': 'Code', 'content': '\":\"'}\n",
      "{'variant': 'Code', 'content': '2'}\n",
      "{'variant': 'Code', 'content': '+'}\n",
      "{'variant': 'Code', 'content': '2'}\n",
      "{'variant': 'Code', 'content': '\"}'}\n",
      "{'variant': 'CodeOutput', 'content': 'The code interpreter was successfully called, but is not yet implemented. The inputs to this function were: code_interpreter ; Some(\"{\\\\\"code\\\\\":\\\\\"2+2\\\\\"}\"). @FrevaGPT, you may tell the user that the tool call was called and interpreted, but not yet implemented.'}\n",
      "{'variant': 'StreamEnd', 'content': 'Stream ended abruptly'}\n"
     ]
    }
   ],
   "source": [
    "# Now we can parse the response as JSON\n",
    "import json\n",
    "response_json = [json.loads(x) for x in reconstructed_response]\n",
    "for element in response_json:\n",
    "    print(element)"
   ]
  },
  {
   "cell_type": "code",
   "execution_count": 18,
   "metadata": {},
   "outputs": [
    {
     "name": "stdout",
     "output_type": "stream",
     "text": [
      "[{'variant': 'ServerHint', 'content': 'thread_id:dAfvxCjCBayzHVMkZPW0TKkeIk4jtGaw'}, {'variant': 'User', 'content': 'This is a test regarding your capabilities of using the code_interpreter tool. Please call the code_interpreter tool with the input \\\\\"2+2\\\\\".'}, {'variant': 'Code', 'content': ''}, {'variant': 'Code', 'content': '{\\\\'}, {'variant': 'Code', 'content': 'code'}, {'variant': 'Code', 'content': '\\\\\":\\\\'}, {'variant': 'Code', 'content': '2'}, {'variant': 'Code', 'content': '+'}, {'variant': 'Code', 'content': '2'}, {'variant': 'Code', 'content': '\\\\\"}'}, {'variant': 'CodeOutput', 'content': 'The code interpreter was successfully called, but is not yet implemented. The inputs to this function were: code_interpreter ; Some(\\\\\"{\\\\\\\\\\\\\"code\\\\\\\\\\\\\":\\\\\\\\\\\\\"2+2\\\\\\\\\\\\\"}\\\\\"). @FrevaGPT, you may tell the user that the tool call was called and interpreted, but not yet implemented.'}, {'variant': 'OpenAIError', 'content': 'Error getting response.'}, {'variant': 'StreamEnd', 'content': 'Stream ended abruptly'}]\n"
     ]
    }
   ],
   "source": [
    "# Testing the get_thread endpoint\n",
    "thread_id = \"dAfvxCjCBayzHVMkZPW0TKkeIk4jtGaw\" # for testing\n",
    "url = base_url + '/getthread?thread_id=' + thread_id + auth_string\n",
    "response = requests.get(url)\n",
    "print(response.json())"
   ]
  }
 ],
 "metadata": {
  "kernelspec": {
   "display_name": "base",
   "language": "python",
   "name": "python3"
  },
  "language_info": {
   "codemirror_mode": {
    "name": "ipython",
    "version": 3
   },
   "file_extension": ".py",
   "mimetype": "text/x-python",
   "name": "python",
   "nbconvert_exporter": "python",
   "pygments_lexer": "ipython3",
   "version": "3.12.3"
  }
 },
 "nbformat": 4,
 "nbformat_minor": 2
}
