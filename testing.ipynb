{
 "cells": [
  {
   "cell_type": "markdown",
   "metadata": {},
   "source": [
    "# Testing \n",
    "## Checking whether the code interpreter can be called"
   ]
  },
  {
   "cell_type": "code",
   "execution_count": 3,
   "metadata": {},
   "outputs": [
    {
     "name": "stdout",
     "output_type": "stream",
     "text": [
      "b'{\"variant\":\"ServerHint\",\"content\":\"thread_id:N9oxI9nsxuwCcggyM4bAjybGmoH1cave\"}'\n",
      "b'{\"variant\":\"Code\",\"content\":\"\"}'\n",
      "b'{\"variant\":\"ServerHint\",\"content\":\"warning:Tool call expected code_interpreter, but found -><-; content: ->{\\\\\"<-\"}'\n",
      "b'{\"variant\":\"ServerHint\",\"content\":\"warning:Tool call expected code_interpreter, but found -><-; content: ->code<-\"}'\n",
      "b'{\"variant\":\"ServerHint\",\"content\":\"warning:Tool call expected code_interpreter, but found -><-; content: ->\\\\\":\\\\\"<-\"}'\n",
      "b'{\"variant\":\"ServerHint\",\"content\":\"warning:Tool call expected code_interpreter, but found -><-; content: ->2<-\"}'\n",
      "b'{\"variant\":\"ServerHint\",\"content\":\"warning:Tool call expected code_interpreter, but found -><-; content: ->+<-\"}'\n",
      "b'{\"variant\":\"ServerHint\",\"content\":\"warning:Tool call expected code_interpreter, but found -><-; content: ->2<-\"}'\n",
      "b'{\"variant\":\"ServerHint\",\"content\":\"warning:Tool call expected code_interpreter, but found -><-; content: ->\\\\\"}<-\"}'\n",
      "b'{\"variant\":\"CodeError\",\"content\":\"Tool call expected, but not found in response.\"}'\n",
      "b'{\"variant\":\"StreamEnd\",\"content\":\"Stream ended abruptly\"}'\n"
     ]
    }
   ],
   "source": [
    "\n",
    "import requests\n",
    "\n",
    "base_url = 'http://localhost:8502'\n",
    "\n",
    "auth_key = \"qA94VhroHMHFN55inWgfAAkt1WEmzQ4J\" # Only for testing\n",
    "auth_string = \"&auth_key=\" + auth_key\n",
    "\n",
    "\n",
    "user_input = \"This is a test regarding your capabilities of using the code_interpreter tool. Please call the code_interpreter tool with the input \\\"2+2\\\".\"\n",
    "url = base_url + '/streamresponse?input=' + user_input + auth_string # leaving out the thread_id spawns a new thread\n",
    "\n",
    "response = requests.get(url, stream=True) # The response can be streamed or gotten all at once.\n",
    "complete_response = [] # The stream gets consumed when streamed, we'll store it here.\n",
    "for delta in response:\n",
    "    print(delta)\n",
    "    complete_response.append(delta.decode(\"utf-8\"))"
   ]
  }
 ],
 "metadata": {
  "kernelspec": {
   "display_name": "base",
   "language": "python",
   "name": "python3"
  },
  "language_info": {
   "codemirror_mode": {
    "name": "ipython",
    "version": 3
   },
   "file_extension": ".py",
   "mimetype": "text/x-python",
   "name": "python",
   "nbconvert_exporter": "python",
   "pygments_lexer": "ipython3",
   "version": "3.12.3"
  }
 },
 "nbformat": 4,
 "nbformat_minor": 2
}
