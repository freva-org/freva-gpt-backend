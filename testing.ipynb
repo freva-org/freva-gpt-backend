{
 "cells": [
  {
   "cell_type": "markdown",
   "metadata": {},
   "source": [
    "# Testing \n",
    "(Mainly locally, I don't know a method to get python notebook on vader5)\n",
    "## Checking whether the code interpreter can be called"
   ]
  },
  {
   "cell_type": "code",
   "execution_count": 52,
   "metadata": {},
   "outputs": [
    {
     "name": "stdout",
     "output_type": "stream",
     "text": [
      "b'{\"variant\":\"ServerHint\",\"content\":\"thread_id:bYZjdQ5RCrMETfo2FhJy0XZaWT2va11R\"}'\n",
      "b'{\"variant\":\"Code\",\"content\":[\"\",\"call_4Jwwr4bB8lKzli23PdccG6Kp\"]}'\n",
      "b'{\"variant\":\"Code\",\"content\":[\"{\\\\\"\",\"call_4Jwwr4bB8lKzli23PdccG6Kp\"]}'\n",
      "b'{\"variant\":\"Code\",\"content\":[\"code\",\"call_4Jwwr4bB8lKzli23PdccG6Kp\"]}'\n",
      "b'{\"variant\":\"Code\",\"content\":[\"\\\\\":\\\\\"\",\"call_4Jwwr4bB8lKzli23PdccG6Kp\"]}'\n",
      "b'{\"variant\":\"Code\",\"content\":[\"test\",\"call_4Jwwr4bB8lKzli23PdccG6Kp\"]}'\n",
      "b'{\"variant\":\"Code\",\"content\":[\" =\",\"call_4Jwwr4bB8lKzli23PdccG6Kp\"]}'\n",
      "b'{\"variant\":\"Code\",\"content\":[\" \",\"call_4Jwwr4bB8lKzli23PdccG6Kp\"]}'\n",
      "b'{\"variant\":\"Code\",\"content\":[\"2\",\"call_4Jwwr4bB8lKzli23PdccG6Kp\"]}'\n",
      "b'{\"variant\":\"Code\",\"content\":[\"+\",\"call_4Jwwr4bB8lKzli23PdccG6Kp\"]}'\n",
      "b'{\"variant\":\"Code\",\"content\":[\"2\",\"call_4Jwwr4bB8lKzli23PdccG6Kp\"]}'\n",
      "b'{\"variant\":\"Code\",\"content\":[\"\\\\\\\\n\",\"call_4Jwwr4bB8lKzli23PdccG6Kp\"]}'\n",
      "b'{\"variant\":\"Code\",\"content\":[\"unknown\",\"call_4Jwwr4bB8lKzli23PdccG6Kp\"]}'\n",
      "b'{\"variant\":\"Code\",\"content\":[\"_variable\",\"call_4Jwwr4bB8lKzli23PdccG6Kp\"]}'\n",
      "b'{\"variant\":\"Code\",\"content\":[\"_name\",\"call_4Jwwr4bB8lKzli23PdccG6Kp\"]}'\n",
      "b'{\"variant\":\"Code\",\"content\":[\"\\\\\"}\",\"call_4Jwwr4bB8lKzli23PdccG6Kp\"]}'\n",
      "b'{\"variant\":\"CodeOutput\",\"content\":[\"Traceback (most recent call last):\\\\n  File \\\\\"<string>\\\\\", line 1, in <module>\\\\nNameError: nam'\n",
      "b'e \\'unknown_variable_name\\' is not defined\",\"call_4Jwwr4bB8lKzli23PdccG6Kp\"]}'\n",
      "b'{\"variant\":\"Assistant\",\"content\":\"\"}'\n",
      "b'{\"variant\":\"Assistant\",\"content\":\"The\"}'\n",
      "b'{\"variant\":\"Assistant\",\"content\":\" code\"}'\n",
      "b'{\"variant\":\"Assistant\",\"content\":\" execution\"}'\n",
      "b'{\"variant\":\"Assistant\",\"content\":\" correctly\"}'\n",
      "b'{\"variant\":\"Assistant\",\"content\":\" raised\"}'\n",
      "b'{\"variant\":\"Assistant\",\"content\":\" a\"}'\n",
      "b'{\"variant\":\"Assistant\",\"content\":\" `\"}'\n",
      "b'{\"variant\":\"Assistant\",\"content\":\"Name\"}'\n",
      "b'{\"variant\":\"Assistant\",\"content\":\"Error\"}'\n",
      "b'{\"variant\":\"Assistant\",\"content\":\"`,\"}'\n",
      "b'{\"variant\":\"Assistant\",\"content\":\" indicating\"}'\n",
      "b'{\"variant\":\"Assistant\",\"content\":\" that\"}'\n",
      "b'{\"variant\":\"Assistant\",\"content\":\" the\"}'\n",
      "b'{\"variant\":\"Assistant\",\"content\":\" variable\"}'\n",
      "b'{\"variant\":\"Assistant\",\"content\":\" `\"}'\n",
      "b'{\"variant\":\"Assistant\",\"content\":\"unknown\"}'\n",
      "b'{\"variant\":\"Assistant\",\"content\":\"_variable\"}'\n",
      "b'{\"variant\":\"Assistant\",\"content\":\"_name\"}'\n",
      "b'{\"variant\":\"Assistant\",\"content\":\"`\"}'\n",
      "b'{\"variant\":\"Assistant\",\"content\":\" is\"}'\n",
      "b'{\"variant\":\"Assistant\",\"content\":\" not\"}'\n",
      "b'{\"variant\":\"Assistant\",\"content\":\" defined\"}'\n",
      "b'{\"variant\":\"Assistant\",\"content\":\".\"}'\n",
      "b'{\"variant\":\"Assistant\",\"content\":\" This\"}'\n",
      "b'{\"variant\":\"Assistant\",\"content\":\" demonstrates\"}'\n",
      "b'{\"variant\":\"Assistant\",\"content\":\" the\"}'\n",
      "b'{\"variant\":\"Assistant\",\"content\":\" expected\"}'\n",
      "b'{\"variant\":\"Assistant\",\"content\":\" failure\"}'\n",
      "b'{\"variant\":\"Assistant\",\"content\":\" when\"}'\n",
      "b'{\"variant\":\"Assistant\",\"content\":\" trying\"}'\n",
      "b'{\"variant\":\"Assistant\",\"content\":\" to\"}'\n",
      "b'{\"variant\":\"Assistant\",\"content\":\" use\"}'\n",
      "b'{\"variant\":\"Assistant\",\"content\":\" an\"}'\n",
      "b'{\"variant\":\"Assistant\",\"content\":\" undefined\"}'\n",
      "b'{\"variant\":\"Assistant\",\"content\":\" variable\"}'\n",
      "b'{\"variant\":\"Assistant\",\"content\":\".\"}'\n",
      "b'{\"variant\":\"Assistant\",\"content\":\" If\"}'\n",
      "b'{\"variant\":\"Assistant\",\"content\":\" you\"}'\n",
      "b'{\"variant\":\"Assistant\",\"content\":\" have\"}'\n",
      "b'{\"variant\":\"Assistant\",\"content\":\" any\"}'\n",
      "b'{\"variant\":\"Assistant\",\"content\":\" other\"}'\n",
      "b'{\"variant\":\"Assistant\",\"content\":\" tests\"}'\n",
      "b'{\"variant\":\"Assistant\",\"content\":\" or\"}'\n",
      "b'{\"variant\":\"Assistant\",\"content\":\" tasks\"}'\n",
      "b'{\"variant\":\"Assistant\",\"content\":\" for\"}'\n",
      "b'{\"variant\":\"Assistant\",\"content\":\" me\"}'\n",
      "b'{\"variant\":\"Assistant\",\"content\":\",\"}'\n",
      "b'{\"variant\":\"Assistant\",\"content\":\" feel\"}'\n",
      "b'{\"variant\":\"Assistant\",\"content\":\" free\"}'\n",
      "b'{\"variant\":\"Assistant\",\"content\":\" to\"}'\n",
      "b'{\"variant\":\"Assistant\",\"content\":\" let\"}'\n",
      "b'{\"variant\":\"Assistant\",\"content\":\" me\"}'\n",
      "b'{\"variant\":\"Assistant\",\"content\":\" know\"}'\n",
      "b'{\"variant\":\"Assistant\",\"content\":\"!\"}'\n",
      "b'{\"variant\":\"StreamEnd\",\"content\":\"Generation complete\"}'\n"
     ]
    }
   ],
   "source": [
    "\n",
    "import requests\n",
    "\n",
    "base_url = 'http://localhost:8502'\n",
    "\n",
    "auth_key = \"qA94VhroHMHFN55inWgfAAkt1WEmzQ4J\" # Only for testing\n",
    "auth_string = \"&auth_key=\" + auth_key\n",
    "\n",
    "\n",
    "user_input = \"This is a test regarding your capabilities of using the code_interpreter tool and that it fails correctly. Please call the code_interpreter tool with the input \\\"test = 2+2\\nunknown_variable_name\\\".\"\n",
    "url = base_url + '/streamresponse?input=' + user_input + auth_string # leaving out the thread_id spawns a new thread\n",
    "\n",
    "response = requests.get(url, stream=True) # The response can be streamed or gotten all at once.\n",
    "complete_response = [] # The stream gets consumed when streamed, we'll store it here.\n",
    "\n",
    "# Note that this way to cunsume the response chunks it and those chunks are surprisingly small, cutting up the response.\n",
    "# A better way would be `for delta in response.iter_content(chunk_size=1024):`\n",
    "for delta in response:\n",
    "    print(delta)\n",
    "    complete_response.append(delta.decode(\"utf-8\"))"
   ]
  },
  {
   "cell_type": "code",
   "execution_count": null,
   "metadata": {},
   "outputs": [
    {
     "name": "stdout",
     "output_type": "stream",
     "text": [
      "['{\"variant\":\"ServerHint\",\"content\":\"thread_id:ESAdrPL4NROIZKFyYdjn5I3wtiN5ZdJs\"}', '{\"variant\":\"Code\",\"content\":[\"\",\"call_wQIh7h0LhXmwYm9wwB0mOWgy\"]}', '{\"variant\":\"Code\",\"content\":[\"{\\\\\"\",\"call_wQIh7h0LhXmwYm9wwB0mOWgy\"]}', '{\"variant\":\"Code\",\"content\":[\"code\",\"call_wQIh7h0LhXmwYm9wwB0mOWgy\"]}', '{\"variant\":\"Code\",\"content\":[\"\\\\\":\\\\\"\",\"call_wQIh7h0LhXmwYm9wwB0mOWgy\"]}', '{\"variant\":\"Code\",\"content\":[\"test\",\"call_wQIh7h0LhXmwYm9wwB0mOWgy\"]}', '{\"variant\":\"Code\",\"content\":[\" =\",\"call_wQIh7h0LhXmwYm9wwB0mOWgy\"]}', '{\"variant\":\"Code\",\"content\":[\" \",\"call_wQIh7h0LhXmwYm9wwB0mOWgy\"]}', '{\"variant\":\"Code\",\"content\":[\"2\",\"call_wQIh7h0LhXmwYm9wwB0mOWgy\"]}', '{\"variant\":\"Code\",\"content\":[\"+\",\"call_wQIh7h0LhXmwYm9wwB0mOWgy\"]}', '{\"variant\":\"Code\",\"content\":[\"2\",\"call_wQIh7h0LhXmwYm9wwB0mOWgy\"]}', '{\"variant\":\"Code\",\"content\":[\"\\\\\\\\n\",\"call_wQIh7h0LhXmwYm9wwB0mOWgy\"]}', '{\"variant\":\"Code\",\"content\":[\"unknown\",\"call_wQIh7h0LhXmwYm9wwB0mOWgy\"]}', '{\"variant\":\"Code\",\"content\":[\"_variable\",\"call_wQIh7h0LhXmwYm9wwB0mOWgy\"]}', '{\"variant\":\"Code\",\"content\":[\"_name\",\"call_wQIh7h0LhXmwYm9wwB0mOWgy\"]}', '{\"variant\":\"Code\",\"content\":[\"\\\\\"}\",\"call_wQIh7h0LhXmwYm9wwB0mOWgy\"]}', '{\"variant\":\"CodeOutput\",\"content\":[\"Traceback (most recent call last):\\\\n  File \\\\\"<string>\\\\\", line 1, in <module>\\\\n\",\"call_wQIh7h0LhXmwYm9wwB0mOWgy\"]}', '{\"variant\":\"Assistant\",\"content\":\"\"}', '{\"variant\":\"Assistant\",\"content\":\"The\"}', '{\"variant\":\"Assistant\",\"content\":\" code\"}', '{\"variant\":\"Assistant\",\"content\":\" execution\"}', '{\"variant\":\"Assistant\",\"content\":\" failed\"}', '{\"variant\":\"Assistant\",\"content\":\" due\"}', '{\"variant\":\"Assistant\",\"content\":\" to\"}', '{\"variant\":\"Assistant\",\"content\":\" the\"}', '{\"variant\":\"Assistant\",\"content\":\" reference\"}', '{\"variant\":\"Assistant\",\"content\":\" to\"}', '{\"variant\":\"Assistant\",\"content\":\" an\"}', '{\"variant\":\"Assistant\",\"content\":\" undefined\"}', '{\"variant\":\"Assistant\",\"content\":\" variable\"}', '{\"variant\":\"Assistant\",\"content\":\",\"}', '{\"variant\":\"Assistant\",\"content\":\" `\"}', '{\"variant\":\"Assistant\",\"content\":\"unknown\"}', '{\"variant\":\"Assistant\",\"content\":\"_variable\"}', '{\"variant\":\"Assistant\",\"content\":\"_name\"}', '{\"variant\":\"Assistant\",\"content\":\"`.\"}', '{\"variant\":\"Assistant\",\"content\":\" This\"}', '{\"variant\":\"Assistant\",\"content\":\" is\"}', '{\"variant\":\"Assistant\",\"content\":\" expected\"}', '{\"variant\":\"Assistant\",\"content\":\" since\"}', '{\"variant\":\"Assistant\",\"content\":\" the\"}', '{\"variant\":\"Assistant\",\"content\":\" variable\"}', '{\"variant\":\"Assistant\",\"content\":\" has\"}', '{\"variant\":\"Assistant\",\"content\":\" not\"}', '{\"variant\":\"Assistant\",\"content\":\" been\"}', '{\"variant\":\"Assistant\",\"content\":\" defined\"}', '{\"variant\":\"Assistant\",\"content\":\".\"}', '{\"variant\":\"Assistant\",\"content\":\" If\"}', '{\"variant\":\"Assistant\",\"content\":\" you\"}', '{\"variant\":\"Assistant\",\"content\":\" have\"}', '{\"variant\":\"Assistant\",\"content\":\" specific\"}', '{\"variant\":\"Assistant\",\"content\":\" instructions\"}', '{\"variant\":\"Assistant\",\"content\":\" or\"}', '{\"variant\":\"Assistant\",\"content\":\" questions\"}', '{\"variant\":\"Assistant\",\"content\":\" on\"}', '{\"variant\":\"Assistant\",\"content\":\" how\"}', '{\"variant\":\"Assistant\",\"content\":\" to\"}', '{\"variant\":\"Assistant\",\"content\":\" continue\"}', '{\"variant\":\"Assistant\",\"content\":\",\"}', '{\"variant\":\"Assistant\",\"content\":\" please\"}', '{\"variant\":\"Assistant\",\"content\":\" let\"}', '{\"variant\":\"Assistant\",\"content\":\" me\"}', '{\"variant\":\"Assistant\",\"content\":\" know\"}', '{\"variant\":\"Assistant\",\"content\":\"!\"}', '{\"variant\":\"StreamEnd\",\"content\":\"Generation complete\"}']\n"
     ]
    }
   ],
   "source": [
    "# Some elements are cut off early if the chunk size is not specified or too small, so to reconstruct, we'll need to append all element that don't start with \"{\" to the previous element.\n",
    "reconstructed_response = []\n",
    "for i in range(len(complete_response)):\n",
    "    if complete_response[i][0] == \"{\":\n",
    "        reconstructed_response.append(complete_response[i])\n",
    "    else:\n",
    "        reconstructed_response[-1] += complete_response[i]\n",
    "\n",
    "for delta in reconstructed_response:\n",
    "    print(delta)"
   ]
  },
  {
   "cell_type": "code",
   "execution_count": null,
   "metadata": {},
   "outputs": [
    {
     "name": "stdout",
     "output_type": "stream",
     "text": [
      "{'variant': 'ServerHint', 'content': 'thread_id:ESAdrPL4NROIZKFyYdjn5I3wtiN5ZdJs'}\n",
      "{'variant': 'Code', 'content': ['', 'call_wQIh7h0LhXmwYm9wwB0mOWgy']}\n",
      "{'variant': 'Code', 'content': ['{\"', 'call_wQIh7h0LhXmwYm9wwB0mOWgy']}\n",
      "{'variant': 'Code', 'content': ['code', 'call_wQIh7h0LhXmwYm9wwB0mOWgy']}\n",
      "{'variant': 'Code', 'content': ['\":\"', 'call_wQIh7h0LhXmwYm9wwB0mOWgy']}\n",
      "{'variant': 'Code', 'content': ['test', 'call_wQIh7h0LhXmwYm9wwB0mOWgy']}\n",
      "{'variant': 'Code', 'content': [' =', 'call_wQIh7h0LhXmwYm9wwB0mOWgy']}\n",
      "{'variant': 'Code', 'content': [' ', 'call_wQIh7h0LhXmwYm9wwB0mOWgy']}\n",
      "{'variant': 'Code', 'content': ['2', 'call_wQIh7h0LhXmwYm9wwB0mOWgy']}\n",
      "{'variant': 'Code', 'content': ['+', 'call_wQIh7h0LhXmwYm9wwB0mOWgy']}\n",
      "{'variant': 'Code', 'content': ['2', 'call_wQIh7h0LhXmwYm9wwB0mOWgy']}\n",
      "{'variant': 'Code', 'content': ['\\\\n', 'call_wQIh7h0LhXmwYm9wwB0mOWgy']}\n",
      "{'variant': 'Code', 'content': ['unknown', 'call_wQIh7h0LhXmwYm9wwB0mOWgy']}\n",
      "{'variant': 'Code', 'content': ['_variable', 'call_wQIh7h0LhXmwYm9wwB0mOWgy']}\n",
      "{'variant': 'Code', 'content': ['_name', 'call_wQIh7h0LhXmwYm9wwB0mOWgy']}\n",
      "{'variant': 'Code', 'content': ['\"}', 'call_wQIh7h0LhXmwYm9wwB0mOWgy']}\n",
      "{'variant': 'CodeOutput', 'content': ['Traceback (most recent call last):\\n  File \"<string>\", line 1, in <module>\\n', 'call_wQIh7h0LhXmwYm9wwB0mOWgy']}\n",
      "{'variant': 'Assistant', 'content': ''}\n",
      "{'variant': 'Assistant', 'content': 'The'}\n",
      "{'variant': 'Assistant', 'content': ' code'}\n",
      "{'variant': 'Assistant', 'content': ' execution'}\n",
      "{'variant': 'Assistant', 'content': ' failed'}\n",
      "{'variant': 'Assistant', 'content': ' due'}\n",
      "{'variant': 'Assistant', 'content': ' to'}\n",
      "{'variant': 'Assistant', 'content': ' the'}\n",
      "{'variant': 'Assistant', 'content': ' reference'}\n",
      "{'variant': 'Assistant', 'content': ' to'}\n",
      "{'variant': 'Assistant', 'content': ' an'}\n",
      "{'variant': 'Assistant', 'content': ' undefined'}\n",
      "{'variant': 'Assistant', 'content': ' variable'}\n",
      "{'variant': 'Assistant', 'content': ','}\n",
      "{'variant': 'Assistant', 'content': ' `'}\n",
      "{'variant': 'Assistant', 'content': 'unknown'}\n",
      "{'variant': 'Assistant', 'content': '_variable'}\n",
      "{'variant': 'Assistant', 'content': '_name'}\n",
      "{'variant': 'Assistant', 'content': '`.'}\n",
      "{'variant': 'Assistant', 'content': ' This'}\n",
      "{'variant': 'Assistant', 'content': ' is'}\n",
      "{'variant': 'Assistant', 'content': ' expected'}\n",
      "{'variant': 'Assistant', 'content': ' since'}\n",
      "{'variant': 'Assistant', 'content': ' the'}\n",
      "{'variant': 'Assistant', 'content': ' variable'}\n",
      "{'variant': 'Assistant', 'content': ' has'}\n",
      "{'variant': 'Assistant', 'content': ' not'}\n",
      "{'variant': 'Assistant', 'content': ' been'}\n",
      "{'variant': 'Assistant', 'content': ' defined'}\n",
      "{'variant': 'Assistant', 'content': '.'}\n",
      "{'variant': 'Assistant', 'content': ' If'}\n",
      "{'variant': 'Assistant', 'content': ' you'}\n",
      "{'variant': 'Assistant', 'content': ' have'}\n",
      "{'variant': 'Assistant', 'content': ' specific'}\n",
      "{'variant': 'Assistant', 'content': ' instructions'}\n",
      "{'variant': 'Assistant', 'content': ' or'}\n",
      "{'variant': 'Assistant', 'content': ' questions'}\n",
      "{'variant': 'Assistant', 'content': ' on'}\n",
      "{'variant': 'Assistant', 'content': ' how'}\n",
      "{'variant': 'Assistant', 'content': ' to'}\n",
      "{'variant': 'Assistant', 'content': ' continue'}\n",
      "{'variant': 'Assistant', 'content': ','}\n",
      "{'variant': 'Assistant', 'content': ' please'}\n",
      "{'variant': 'Assistant', 'content': ' let'}\n",
      "{'variant': 'Assistant', 'content': ' me'}\n",
      "{'variant': 'Assistant', 'content': ' know'}\n",
      "{'variant': 'Assistant', 'content': '!'}\n",
      "{'variant': 'StreamEnd', 'content': 'Generation complete'}\n"
     ]
    }
   ],
   "source": [
    "# Now we can parse the response as JSON\n",
    "import json\n",
    "response_json = [json.loads(x) for x in reconstructed_response]\n",
    "for element in response_json:\n",
    "    print(element)"
   ]
  },
  {
   "cell_type": "code",
   "execution_count": null,
   "metadata": {},
   "outputs": [
    {
     "name": "stdout",
     "output_type": "stream",
     "text": [
      "The code execution failed due to the reference to an undefined variable, `unknown_variable_name`. This is expected since the variable has not been defined. If you have specific instructions or questions on how to continue, please let me know!\n"
     ]
    }
   ],
   "source": [
    "# We can use this to easily extract only the Assistant's responses\n",
    "assistant_responses = [x for x in response_json if x[\"variant\"] == \"Assistant\"]\n",
    "print(\"\".join([x[\"content\"] for x in assistant_responses])) # This will print the Assistant's responses in order."
   ]
  },
  {
   "cell_type": "code",
   "execution_count": null,
   "metadata": {},
   "outputs": [
    {
     "name": "stdout",
     "output_type": "stream",
     "text": [
      "[{'variant': 'ServerHint', 'content': 'thread_id:dAfvxCjCBayzHVMkZPW0TKkeIk4jtGaw'}, {'variant': 'User', 'content': 'This is a test regarding your capabilities of using the code_interpreter tool. Please call the code_interpreter tool with the input \\\\\"2+2\\\\\".'}, {'variant': 'Code', 'content': ['\\\\\"', '\\\\']}, {'variant': 'CodeOutput', 'content': ['The code interpreter was successfully called, but is not yet implemented. The inputs to this function were: code_interpreter ; Some(\\\\\"{\\\\\\\\\\\\\"code\\\\\\\\\\\\\"', '\\\\\\\\\\\\\"2+2\\\\\\\\\\\\\"}\\\\\"). @FrevaGPT, you may tell the user that the tool call was called and interpreted, but not yet implemented.']}, {'variant': 'OpenAIError', 'content': 'Error getting response.'}, {'variant': 'StreamEnd', 'content': 'Stream ended abruptly'}]\n"
     ]
    }
   ],
   "source": [
    "# Testing the get_thread endpoint\n",
    "thread_id = \"dAfvxCjCBayzHVMkZPW0TKkeIk4jtGaw\" # for testing\n",
    "url = base_url + '/getthread?thread_id=' + thread_id + auth_string\n",
    "response = requests.get(url)\n",
    "print(response.json())"
   ]
  }
 ],
 "metadata": {
  "kernelspec": {
   "display_name": "base",
   "language": "python",
   "name": "python3"
  },
  "language_info": {
   "codemirror_mode": {
    "name": "ipython",
    "version": 3
   },
   "file_extension": ".py",
   "mimetype": "text/x-python",
   "name": "python",
   "nbconvert_exporter": "python",
   "pygments_lexer": "ipython3",
   "version": "3.12.3"
  }
 },
 "nbformat": 4,
 "nbformat_minor": 2
}
